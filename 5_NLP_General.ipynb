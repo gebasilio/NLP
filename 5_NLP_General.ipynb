{
 "cells": [
  {
   "cell_type": "markdown",
   "metadata": {},
   "source": [
    "En esta notebook se procesara una secuencia de títulos de notas para ejemplificar diversas técnicas de NLP"
   ]
  },
  {
   "cell_type": "code",
   "execution_count": 109,
   "metadata": {
    "collapsed": true
   },
   "outputs": [],
   "source": [
    "import numpy as np\n",
    "import re"
   ]
  },
  {
   "cell_type": "markdown",
   "metadata": {},
   "source": [
    "## Cargo dataset"
   ]
  },
  {
   "cell_type": "code",
   "execution_count": 206,
   "metadata": {
    "collapsed": true
   },
   "outputs": [],
   "source": [
    "f = open('sentences_raw.txt','r')\n",
    "full_text = f.read()\n",
    "f.close()"
   ]
  },
  {
   "cell_type": "code",
   "execution_count": 207,
   "metadata": {},
   "outputs": [
    {
     "name": "stdout",
     "output_type": "stream",
     "text": [
      "Contenido completo:\n",
      "Trump Jr. Won’t Provide Details of a Call With His Father. Donald Trump Jr. claimed that his conversation with the president was protected under lawyer-client privilege because lawyers for both men were on the call.\n",
      "Hall of Fame quarterback Warren Moon sued for sexual harassment. A California woman is suing Hall of Fame quarterback Warren Moon for alleged sexual misconduct and battery when she was employed at his sports marketing firm.\n",
      "Mother opens up on terrifying moment she 'DIED' giving birth to twins. Mother Kristie Miller, from the Gold Coast, has opened up about the terrifying moment she almost died on the table after giving birth to her twins at 29 weeks.\n",
      "LA will become largest US city with recreational pot. Los Angeles is in line to become the nation's largest city with legal recreational marijuana after the City Council voted Wednesday to license sales and cultivation next year.\n",
      "New West man finds more than $1,500 cash in a box, returns it to owner. The owner of several Metro Vancouver Domino's Pizza shops is grateful to a Good Samaritan who returned a box containing more than $1,500 in cash destined for a local charity.\n",
      "No. 5 Florida upset again, this time by Loyola-Chicago 65-59. No. 5 Florida followed a performance coach Mike White called \"the epitome of soft\" with an even bigger flop. Aundre Jackson scored 23 points, Cameron Krutwig added 14 and Loyola-Chicago … Click to Continue »\n",
      "Griffin scores 20 to help Saint Peter's beat Houston Baptist. Nick Griffin hit four 3-pointers and finished with 20 points and Samuel Idowu made a late 3 to help Saint Peter's beat Houston Baptist 76-74 on Wednesday night. Davauhnte Turner … Click to Continue »\n",
      "LeBron hits big 3, scores 32 as Cavaliers win 13th straight. The play is called \"Chicago,\" named after a game-winning shot LeBron James made in the playoffs to beat the Bulls. It worked like a charm again in Cleveland. James drained … Click to Continue »\n",
      "Corrections: December 7, 2017. Corrections appearing in print on Thursday, December 7, 2017.\n",
      "Frederik Andersen backstops Leafs to SO win over Flames. Frederik Andersen stopped 47 shots through regulation and overtime, and three more in the shootout as the Toronto Maple Leafs beat Calgary 2-1 on Wednesday for their second win over the Flames in eight days.\n",
      "Couple get engaged just three weeks after their first date. Victorian couple Minda and Tony van Eyk became engaged just three weeks after their first date. Here they share their romantic story with FEMAIL.\n",
      "SEE IT: Trump slurs words in Jerusalem embassy speech. \"God bless the Unatted Steths,\" Trump said at the end of his speech.\n",
      "Donald Trump Jr. refuses to discuss meeting with dad during congressional panel appearance. Donald Trump Jr., declined to discuss with lawmakers on Wednesday a conversation he had with his father about emails related to a June 2016 meeting he attended with Trump associates and Russians.\n",
      "Seattle Mariners, L.A. Angels each get $1 million for Shohei Ohtani pursuit. Mariners, An\n"
     ]
    }
   ],
   "source": [
    "# Titulo + Bajada separado por \\n\n",
    "print('Contenido completo:')\n",
    "print(full_text[:3000])"
   ]
  },
  {
   "cell_type": "markdown",
   "metadata": {},
   "source": [
    "# Preprocesamiento:"
   ]
  },
  {
   "cell_type": "code",
   "execution_count": 208,
   "metadata": {},
   "outputs": [],
   "source": [
    "full_text = full_text.lower()"
   ]
  },
  {
   "cell_type": "code",
   "execution_count": 209,
   "metadata": {},
   "outputs": [
    {
     "name": "stdout",
     "output_type": "stream",
     "text": [
      "Total de items de lista:\n"
     ]
    },
    {
     "data": {
      "text/plain": [
       "38246"
      ]
     },
     "execution_count": 209,
     "metadata": {},
     "output_type": "execute_result"
    }
   ],
   "source": [
    "# Obtengo un array con cada titulo + bajada por elemento\n",
    "sentences = full_text.split('\\n')\n",
    "print('Total de items de lista:')\n",
    "len(sentences)"
   ]
  },
  {
   "cell_type": "code",
   "execution_count": 212,
   "metadata": {
    "collapsed": true
   },
   "outputs": [],
   "source": [
    "preprocesed_sentences = []\n",
    "non_alpha_regex = re.compile('[\\W_ \\#]', re.UNICODE)\n",
    "for sentence in sentences:\n",
    "    preproc_sentence = non_alpha_regex.sub(' ', sentence)\n",
    "    preprocesed_sentences.append(preproc_sentence)"
   ]
  },
  {
   "cell_type": "code",
   "execution_count": 216,
   "metadata": {},
   "outputs": [
    {
     "name": "stdout",
     "output_type": "stream",
     "text": [
      "Ejemplo de primeros 3 elementos de la lista:\n"
     ]
    },
    {
     "data": {
      "text/plain": [
       "['trump jr  won t provide details of a call with his father  donald trump jr  claimed that his conversation with the president was protected under lawyer client privilege because lawyers for both men were on the call ',\n",
       " 'hall of fame quarterback warren moon sued for sexual harassment  a california woman is suing hall of fame quarterback warren moon for alleged sexual misconduct and battery when she was employed at his sports marketing firm ',\n",
       " 'mother opens up on terrifying moment she  died  giving birth to twins  mother kristie miller  from the gold coast  has opened up about the terrifying moment she almost died on the table after giving birth to her twins at 29 weeks ']"
      ]
     },
     "execution_count": 216,
     "metadata": {},
     "output_type": "execute_result"
    }
   ],
   "source": [
    "print('Ejemplo de primeros 3 elementos de la lista:')\n",
    "preprocesed_sentences[:3]"
   ]
  },
  {
   "cell_type": "markdown",
   "metadata": {},
   "source": [
    "# Stopwords, Lemmatization y Stemming"
   ]
  },
  {
   "cell_type": "code",
   "execution_count": 217,
   "metadata": {
    "collapsed": true
   },
   "outputs": [],
   "source": [
    "from sklearn.feature_extraction.text import TfidfVectorizer, CountVectorizer, TfidfTransformer, ENGLISH_STOP_WORDS"
   ]
  },
  {
   "cell_type": "code",
   "execution_count": 218,
   "metadata": {},
   "outputs": [
    {
     "name": "stdout",
     "output_type": "stream",
     "text": [
      "frozenset({'thereupon', 'hasnt', 'although', 'has', 'almost', 'beyond', 'once', 'interest', 'as', 'often', 'two', 'beforehand', 'de', 'describe', 'us', 'except', 'amount', 'former', 'see', 'cry', 'ourselves', 'via', 'three', 'being', 'most', 'wherever', 'herein', 'been', 'hereby', 'ten', 'thru', 'with', 'below', 'latterly', 'its', 'fill', 'to', 'please', 'cant', 'few', 'perhaps', 'whoever', 'call', 'hers', 'serious', 'anyone', 'much', 'top', 'upon', 'were', 'con', 'show', 'ltd', 'namely', 'together', 'him', 'thick', 'your', 'mostly', 'would', 'not', 'co', 'or', 'though', 'whenever', 'whence', 'everywhere', 'mill', 'several', 'something', 'too', 'whole', 'side', 'even', 'whose', 'somewhere', 'himself', 'whatever', 'without', 'nobody', 'among', 'keep', 'amongst', 'no', 'then', 'will', 'elsewhere', 'over', 'full', 'sometime', 'found', 'four', 'give', 'it', 'around', 'next', 'thin', 'amoungst', 'while', 'after', 'are', 'throughout', 'move', 'from', 'sincere', 'the', 'cannot', 'at', 'her', 'we', 'who', 'here', 'themselves', 'our', 'still', 'eg', 'had', 'my', 'empty', 'whether', 'beside', 'etc', 'than', 'whereas', 'five', 'becomes', 'how', 'least', 'many', 'may', 'afterwards', 'more', 'myself', 'eleven', 'less', 're', 'thence', 'yours', 'yourself', 'get', 'by', 'either', 'now', 'onto', 'ours', 'hereupon', 'herself', 'six', 'about', 'go', 'part', 'same', 'could', 'itself', 'nowhere', 'also', 'inc', 'mine', 'noone', 'against', 'his', 'have', 'into', 'yourselves', 'an', 'such', 'along', 'both', 'out', 'through', 'find', 'third', 'others', 'every', 'system', 'within', 'fire', 'fifteen', 'when', 'what', 'hence', 'becoming', 'couldnt', 'between', 'so', 'another', 'if', 'already', 'always', 'meanwhile', 'whereby', 'whereupon', 'well', 'latter', 'during', 'else', 'due', 'each', 'behind', 'last', 'is', 'this', 'be', 'before', 'seem', 'nevertheless', 'thereafter', 'until', 'become', 'moreover', 'hundred', 'none', 'all', 'otherwise', 'somehow', 'un', 'neither', 'only', 'of', 'take', 'in', 'seemed', 'indeed', 'towards', 'first', 'why', 'other', 'front', 'up', 'besides', 'back', 'one', 'whither', 'must', 'should', 'was', 'bottom', 'became', 'name', 'anyhow', 'bill', 'seeming', 'toward', 'on', 'rather', 'she', 'which', 'whom', 'forty', 'seems', 'twelve', 'further', 'under', 'whereafter', 'fifty', 'might', 'never', 'where', 'across', 'ever', 'and', 'anyway', 'anywhere', 'do', 'again', 'for', 'he', 'since', 'everything', 'twenty', 'those', 'done', 'own', 'enough', 'thus', 'anything', 'but', 'their', 'everyone', 'someone', 'very', 'therefore', 'can', 'sixty', 'eight', 'yet', 'them', 'therein', 'however', 'i', 'put', 'you', 'wherein', 'ie', 'made', 'that', 'hereafter', 'am', 'me', 'some', 'formerly', 'these', 'sometimes', 'there', 'they', 'nothing', 'nine', 'because', 'detail', 'any', 'nor', 'alone', 'thereby', 'per', 'above', 'off', 'a', 'down'})\n"
     ]
    }
   ],
   "source": [
    "print(ENGLISH_STOP_WORDS)"
   ]
  },
  {
   "cell_type": "code",
   "execution_count": 219,
   "metadata": {},
   "outputs": [
    {
     "name": "stdout",
     "output_type": "stream",
     "text": [
      "[nltk_data] Downloading package punkt to\n",
      "[nltk_data]     /Users/julianganzabal/nltk_data...\n",
      "[nltk_data]   Package punkt is already up-to-date!\n",
      "[nltk_data] Downloading package wordnet to\n",
      "[nltk_data]     /Users/julianganzabal/nltk_data...\n",
      "[nltk_data]   Package wordnet is already up-to-date!\n"
     ]
    },
    {
     "data": {
      "text/plain": [
       "True"
      ]
     },
     "execution_count": 219,
     "metadata": {},
     "output_type": "execute_result"
    }
   ],
   "source": [
    "import nltk\n",
    "from nltk.stem.wordnet import WordNetLemmatizer\n",
    "nltk.download('punkt')\n",
    "nltk.download('wordnet')"
   ]
  },
  {
   "cell_type": "markdown",
   "metadata": {},
   "source": [
    "## Ejemplo Lemma y Stemming"
   ]
  },
  {
   "cell_type": "code",
   "execution_count": 220,
   "metadata": {},
   "outputs": [
    {
     "name": "stdout",
     "output_type": "stream",
     "text": [
      "Original\n",
      "['The', 'president', 'is', 'driving', 'the', 'cars', 'and', 'playing', '.', 'Are', 'the', 'presidential', 'cars', 'faster', '?']\n",
      "\n",
      "Stemmed:\n",
      "['the', 'presid', 'is', 'drive', 'the', 'car', 'and', 'play', '.', 'are', 'the', 'presidenti', 'car', 'faster', '?']\n",
      "\n",
      "Lemmatized:\n",
      "['The', 'president', 'be', 'drive', 'the', 'car', 'and', 'play', '.', 'Are', 'the', 'presidential', 'car', 'fast', '?']\n"
     ]
    }
   ],
   "source": [
    "stemmer = nltk.stem.porter.PorterStemmer()\n",
    "\n",
    "testing_sentence = 'The president is driving the cars and playing. Are the presidential cars faster?'\n",
    "tokens = nltk.word_tokenize(testing_sentence)\n",
    "print('Original')\n",
    "print(tokens)\n",
    "print()\n",
    "stemmed = []\n",
    "lemmatized = []\n",
    "for t in tokens:\n",
    "    stemmed.append(stemmer.stem(t))\n",
    "    lemma = WordNetLemmatizer().lemmatize(t, pos='v')\n",
    "    lemma = WordNetLemmatizer().lemmatize(lemma, pos='a')\n",
    "    lemma = WordNetLemmatizer().lemmatize(lemma, pos='s')\n",
    "    lemma = WordNetLemmatizer().lemmatize(lemma, pos='r')\n",
    "    lemma = WordNetLemmatizer().lemmatize(lemma, pos='n')\n",
    "    lemmatized.append(lemma)\n",
    "print('Stemmed:')\n",
    "print(stemmed)\n",
    "print()\n",
    "print('Lemmatized:')\n",
    "print(lemmatized)"
   ]
  },
  {
   "cell_type": "code",
   "execution_count": 221,
   "metadata": {
    "collapsed": true
   },
   "outputs": [],
   "source": [
    "def tokenize_and_stem(text):\n",
    "    do_stemming = True\n",
    "    # Function that takes text, tokenizes it and \n",
    "    # returns list of stemmed tokens\n",
    "    tokens = nltk.word_tokenize(text)\n",
    "    stemmer = nltk.stem.porter.PorterStemmer()\n",
    "    output = [] \n",
    "    for t in tokens:\n",
    "        #stem = stemmer.stem(t)\n",
    "        stem = WordNetLemmatizer().lemmatize(t, pos='v')\n",
    "        stem = WordNetLemmatizer().lemmatize(stem, pos='a')\n",
    "        stem = WordNetLemmatizer().lemmatize(stem, pos='s')\n",
    "        stem = WordNetLemmatizer().lemmatize(stem, pos='r')\n",
    "        stem = WordNetLemmatizer().lemmatize(stem, pos='n')\n",
    "        # Dont consider stem shorter than 3? is it correct\n",
    "        if len(stem)>2:\n",
    "            output.append(stem) \n",
    "        elif len(t)>2:\n",
    "            output.append(t)\n",
    "    return output"
   ]
  },
  {
   "cell_type": "code",
   "execution_count": 222,
   "metadata": {},
   "outputs": [
    {
     "name": "stdout",
     "output_type": "stream",
     "text": [
      "mother opens up on terrifying moment she 'died' giving birth to twins. mother kristie miller, from the gold coast, has opened up about the terrifying moment she almost died on the table after giving birth to her twins at 29 weeks.\n",
      "['mother', 'open', 'terrify', 'moment', 'she', \"'died\", 'give', 'birth', 'twin', 'mother', 'kristie', 'miller', 'from', 'the', 'gold', 'coast', 'have', 'open', 'about', 'the', 'terrify', 'moment', 'she', 'almost', 'die', 'the', 'table', 'after', 'give', 'birth', 'her', 'twin', 'week']\n"
     ]
    }
   ],
   "source": [
    "index = 2\n",
    "print(sentences[index])\n",
    "print(tokenize_and_stem(sentences[index]))"
   ]
  },
  {
   "cell_type": "markdown",
   "metadata": {},
   "source": [
    "# CountVectorizer, TFIDF"
   ]
  },
  {
   "cell_type": "code",
   "execution_count": 234,
   "metadata": {},
   "outputs": [],
   "source": [
    "count_vectorizer = CountVectorizer(max_df= 0.9, \\\n",
    "                                    min_df= 5, \\\n",
    "                                    max_features= 100000 , \\\n",
    "                                    stop_words= ENGLISH_STOP_WORDS, \\\n",
    "                                    tokenizer = tokenize_and_stem, \\\n",
    "                                    ngram_range = (1,2)) #(1,2)"
   ]
  },
  {
   "cell_type": "code",
   "execution_count": 235,
   "metadata": {},
   "outputs": [],
   "source": [
    "doc_term_matrix_count = count_vectorizer.fit_transform(preprocesed_sentences)"
   ]
  },
  {
   "cell_type": "code",
   "execution_count": 236,
   "metadata": {},
   "outputs": [
    {
     "data": {
      "text/plain": [
       "(38246, 22695)"
      ]
     },
     "execution_count": 236,
     "metadata": {},
     "output_type": "execute_result"
    }
   ],
   "source": [
    "doc_term_matrix_count.shape"
   ]
  },
  {
   "cell_type": "markdown",
   "metadata": {},
   "source": [
    "### Cual fue el token que mas aparecio?"
   ]
  },
  {
   "cell_type": "code",
   "execution_count": 272,
   "metadata": {},
   "outputs": [
    {
     "data": {
      "text/plain": [
       "<38246x22695 sparse matrix of type '<class 'numpy.int64'>'\n",
       "\twith 702062 stored elements in Compressed Sparse Row format>"
      ]
     },
     "execution_count": 272,
     "metadata": {},
     "output_type": "execute_result"
    }
   ],
   "source": [
    "doc_term_matrix_count"
   ]
  },
  {
   "cell_type": "code",
   "execution_count": 240,
   "metadata": {},
   "outputs": [
    {
     "data": {
      "text/plain": [
       "(1, 22695)"
      ]
     },
     "execution_count": 240,
     "metadata": {},
     "output_type": "execute_result"
    }
   ],
   "source": [
    "doc_term_matrix_count.sum(axis=0).shape"
   ]
  },
  {
   "cell_type": "code",
   "execution_count": 257,
   "metadata": {},
   "outputs": [],
   "source": [
    "sorted_indexes = np.array(np.argsort(doc_term_matrix_count.sum(axis=0)))[0][::-1]"
   ]
  },
  {
   "cell_type": "code",
   "execution_count": 264,
   "metadata": {},
   "outputs": [
    {
     "data": {
      "text/plain": [
       "array(['say', 'year', 'trump', 'new', 'make', 'president', 'time', 'tax',\n",
       "       'woman', 'police', 'world', 'man', 'people', 'state', 'win', 'plan',\n",
       "       'week', 'house', 'day', 'city', 'old', '2017', 'star', 'report',\n",
       "       'sexual', 'big', 'late', 'just', 'look', 'home', 'come', 'game',\n",
       "       'donald', 'help', 'best', 'high', 'like', 'christmas', 'company',\n",
       "       'know', 'donald trump', 'work', 'use', 'need', 'want', 'leave',\n",
       "       'market', 'continue', 'year old', 'good'],\n",
       "      dtype='<U27')"
      ]
     },
     "execution_count": 264,
     "metadata": {},
     "output_type": "execute_result"
    }
   ],
   "source": [
    "np.array(count_vectorizer.get_feature_names())[sorted_indexes][:50]"
   ]
  },
  {
   "cell_type": "markdown",
   "metadata": {},
   "source": [
    "### En cuantos articulos aparece Trump y Tweet. Cuales son?"
   ]
  },
  {
   "cell_type": "code",
   "execution_count": 347,
   "metadata": {},
   "outputs": [
    {
     "name": "stdout",
     "output_type": "stream",
     "text": [
      "trump index: 20703\n",
      "tweet index: 20986\n",
      "Cantidad de Articulos: 267\n",
      "Articulos\n"
     ]
    },
    {
     "data": {
      "text/plain": [
       "array([ 'chelsea handler criticized for calling out trump in fire evacuation tweet   jesus christ  obsessed with the president much   one critic of chelsea handler s trump tweet says',\n",
       "       'dems ask tillerson if trump anti islam tweets put us at risk  a group of house democrats is calling on secretary of state rex tillerson to tell them whether president donald trump s frequent use of social media is putting u s  diplomats and americans traveling abroad at risk ',\n",
       "       'people can t stop reading a professor s theory of a trump russia conspiracy   true or not  seth abramson lays out a story of astonishing intrigue and stupidity  one tweet at a time ',\n",
       "       'on the night news desk when trump s tweeting starts  lara jakes  recent night editor for our washington bureau  and steve kenny  night editor in new york  discuss how year 1 of the trump era has affected their jobs and their sleep ',\n",
       "       'jeff flake  2020   sen  jeff flake tweeted a picture tuesday afternoon that is the most visible sign yet that his break from the trump led republican party may not only be permanent but also could lead to a national bid for the arizona republican down the line ',\n",
       "       'trump foe jeff flake donates to roy moore s democratic opponent  flake  who has sparred with president donald trump over the moore campaign  tweeted a photo of his  100 check to doug jones  in the memo field  he scrawled   country over party  ',\n",
       "       'republican sen  jeff flake tweets a photo of his  100 donation to alabama s democratic senate candidate  gop sen  jeff flake of arizona  one of president donald trump s top antagonists within the gop  tweeted a photo tuesday of his  100 donation to doug jones',\n",
       "       'if trump wants to save christmas  he might start with trees  standing behind a massive lit christmas tree  trump tweeted his wish to america and the world for  a very  merry christmas  ',\n",
       "       'barack obama trounces trump in most popular tweets of 2017  former president s response to charlottesville violence was most liked tweet of the year',\n",
       "       'the top tweeted political account in 2017 was  realdonaldtrump and the top hashtag was  resist   cnn    president donald trump s twitter handle appeared in more tweets than any other elected official in the us in 2017  according to data from the social network  the fact that many of the top political hashtags were related to trump  like  res   ',\n",
       "       'fbi director chris wray sends email to boost morale after trump tweet  the head of the fbi has sent a morale boosting email to his staff in the wake of verbal attacks on the bureau by president donald trump ',\n",
       "       'obama tweets shared more than trump s  mr trump didn t make the top 10 most shared tweets of 2017  but he was the most talked about leader ',\n",
       "       'obama has 4 of twitter s top 2017 tweets  trump has none   obama s top 2017 tweet was a nelson mandela quote  trump s was a cnn gif ',\n",
       "       'trump didn t crack twitter s list of 2017 s top tweets  but former president barack obama had a bunch of spots on the year s most liked and shared tweets ',\n",
       "       'wendy s chicken nugget boy  obama among most retweeted in 2017   toronto star  obama s tweet in response to charlottesville was retweeted 1 7 million times and has 4 5 million likes  donald trump didn t make the list ',\n",
       "       'obama  lebron tweets dunking on trump more popular than trump s own tweets in 2017  none of trump s tweets about the fake news or crooked hillary were among twitter s most retweeted tweets of 2017 ',\n",
       "       'twitter 2017  trump is the most tweeted about  obama has the most liked tweets  the microblogging site reveals the most liked and retweeted tweets  the most tweeted about political leaders and the most popular hashtags ',\n",
       "       'barack obama beats donald trump in most popular tweets of 2017  he may not enjoy the  potus handle any longer  but barack obama s tweets have proved more popular than donald trump s this year ',\n",
       "       'trump s tweets less  liked  than obama s  president trump loves to tweet  but his tweets weren t among the most  liked  in 2017 ',\n",
       "       'president trump and lawyer john dowd test potential for  death by tweet   this is possibly the single most moronic tweet of this administration  calling it sloppy drafting is like calling the titanic incautious navigation ',\n",
       "       'twitter reveals 2017 s most popular tweets  and trump s ego may shatter  barack obama  on the other hand  totally nailed it ',\n",
       "       'the top tweeted political account in 2017 was  realdonaldtrump and the top hashtag was  resist  president donald trump s twitter handle appeared in more tweets than any other elected official in the us in 2017  according to data from the social network  the fact that many of the top political hashtags were related to trump  like  resist and    ',\n",
       "       'comey and holder make unethical response to trump  trump s  fbi in tatters  tweet has been met with unethical responses from james comey and eric holder  says jake novak ',\n",
       "       'fbi director tells staff to  apos keep calm and tackle hard apos  in wake of trump apos s critical tweet  christopher wray says he is  inspired by example after example of professionalism and dedication  by his staff',\n",
       "       'obama eclipses trump in most popular twitter posts of 2017  twitter s annual list of most retweeted posts features three tweets from obama  and nothing from trump',\n",
       "       'obama had three of the most retweeted tweets of 2017  trump didn t make the top 10   the most retweeted tweets of 2017 feature a lot of politics  some calls to help hurricane victims in houston  and one infamous tweet about chicken nuggets  former president barack obama has the most tweets among the top 10 most rted  with three  w   ',\n",
       "       'three obama tweets  no trump tweets make list of 2017 s most retweeted  he may be the most tweeted about world leader  but president trump isn t the most retweeted  not even in the top 10 ',\n",
       "       'hope and change are still atwitter in the most retweeted tweets of 2017  what do former president barack obama  lebron james calling donald trump a  bum   and a man thirsting for a lifetime supply of wendy s chicken nuggets have in common  they were all some of the most retweeted tweets of 2017  obama dominated the yea   ',\n",
       "       'weekly news quiz  michael flynn  trump s tweets  the pope s speech  have you been paying attention to the headlines this week  take our 10 question quiz and see ',\n",
       "       'one president dominated twitter s top tweets of 2017  and it wasn t donald trump  sad ',\n",
       "       'obama dominated twitter in 2017 with 3 of the most popular tweets   and trump had none  twitter released its list of the most shared tweets of 2017 on tuesday  and it includes three tweets from former us president barack obama ',\n",
       "       '19 times president trump may have obstructed justice  unfortunately for trump  if mueller is building an obstruction case  it probably doesn t hinge on a single erroneous tweet drafted by his lawyer ',\n",
       "       'analysis   in 2017  barack obama beat donald trump       at retweets  former president barack obama had three of the year s top ten most retweeted tweets',\n",
       "       'here are 2017 s most popular tweets  and none are donald trump s   here they are  the most popular tweets in the world ',\n",
       "       'trump didn t make the top 10 most retweeted tweets of 2017   but obama did  trump was the most tweeted about elected world leader and u s  elected official ',\n",
       "       'india s prime minister is the second most tweeted world leader after trump  he s got over 37 million followers ',\n",
       "       'trump s tweet adds to allies  worries about legal problems  allies are growing worried about president donald trump s legal situation  as his lawyers offer an optimistic view ',\n",
       "       'blumethal   credible case  for obstruction of justice against trump  sen  richard blumenthal said monday that president donald trump s tweet over the weekend saying he fired former national security adviser michael flynn because he lied to the fbi is  very powerful evidence of obstruction of justice  ',\n",
       "       'video  trump s lawyer takes blame for problematic tweet  john dowd  trump s personal lawyer  said he wrote trump s tweet that flynn had to be fired because he lied to the vice president and the fbi ',\n",
       "       ' keep calm and tackle hard   fbi director sends out motivational email to agents after trump s fiery tweets  fbi director christopher wray sent a motivational email to the fbi s 35 000 employees on monday  following president donald trump s tirade against the   ',\n",
       "       'donald trump apos s lawyer says it is  apos impossible for the president to obstruct justice apos   the president had tweeted he knew michael flynn had lied to the fbi and that is why he fired him',\n",
       "       'the wild tweeting weekend of president donald trump  this weekend  president trump took to twitter and veered between various topics  potentially putting himself in more legal jeopardy over michael flynn ',\n",
       "       'trump s stock market obsession  deconstructed  president donald trump is obsessed with the stock market  he has tweeted about it nearly every week since july  giving himself credit for the market s booming performance this year ',\n",
       "       'yes  donald trump s tweet about michael flynn is a legal liability  even if his lawyer sent the tweets ',\n",
       "       'trump lashes out at fbi over russia investigation  donald trump lashed out at the federal bureau of investigation in a series of pre dawn tweets on sunday',\n",
       "       'trump lawyer says he was behind tweet   cnn video  cnn legal analyst michael zeldin discusses the possibility of obstruction of justice by the trump administration ',\n",
       "       'analysis   the 2 big holes in trump lawyer john dowd s explanation of that disastrous tweet  john dowd seems to be arguing that sally yates told the white house more than she let on in congressional testimony ',\n",
       "       'perspective   trump always lashes out when he s cornered  he told me so years ago   the president s tweets and public remarks will only get wilder as the russia investigation narrows ',\n",
       "       'chuck and nancy are coming to the white house after all  the democrats called off a meeting with trump last week after he derided them in a tweet  they agreed monday to a conversation on immigration reform and other thorny topics ',\n",
       "       'trump s lawyer takes the fall for his latest potentially damning tweet  trump is playing defense after a tweet sent from his account suggested he obstructed an fbi investigation by referencing a familiar foe  hillary clinton',\n",
       "       'the tweet in which trump maybe admitted to obstruction of justice  explained  his legal team is trying to clean up this mess   by claiming he didn t even write the tweet ',\n",
       "       'analysis   why is trump endorsing roy moore   after keeping his distance from alabama gop senate nominee roy moore  president trump is now all in  he tweeted this endorsement monday morning for moore  who has been accused by at least six women of initiating sexual advances when he was in his    ',\n",
       "       'trump says he feels badly for michael flynn  the president s tweet over the weekend that flynn was fired over lying to pence and the fbi has raised questions about what he knew and when he knew it',\n",
       "       'trump tweets force white house into damage control  toluse olorunnipa  bloomberg news  discusses president trump s tweets which were attacking the fbi  he speaks on  bloomberg surveillance    source  bloomberg ',\n",
       "       'what we know about accusations that trump obstructed justice  president trump s tweet that he knew his former national security adviser had lied to the f b i  is seen in some quarters as evidence that he obstructed justice  but his lawyer says that a president cannot violate such laws ',\n",
       "       'trump s lawyer claims the president can t obstruct justice  the new defense comes after a tweet from president trump s account suggested the president knew former white house national security adviser michael flynn had lied to the fbi when he was fired in february',\n",
       "       'brookings  hudak sees tax plan as wealth transfer  john hudak  senior fellow of governance studies at brookings institution  discusses president donald trump s tweets and the senate tax bill  he speaks on  bloomberg surveillance    source  bloomberg ',\n",
       "       'trump can t confess to anything in a tweet  his feed can be proof of political motivation  but not criminal activity ',\n",
       "       'president donald trump endorses alleged child molester roy moore for senate   we will need his vote   trump tweets that republicans can t afford another democrat in the senate ',\n",
       "       'trump offers full support for embattled republican roy moore  washington   president donald trump endorsed embattled republican roy moore in the alabama senate race on monday  looking past sexual misconduct allegations against the gop candidate to argue that his vote is needed in congress  trump tweeted earl   ',\n",
       "       'trump offers full support for embattled republican roy moore  president donald trump endorsed embattled republican roy moore in the alabama senate race on monday  looking past sexual misconduct allegations against the gop candidate to argue that his vote is needed in congress  trump tweeted early monday that   ',\n",
       "       'trump fully endorses roy moore for senate despite sexual misconduct allegations   toronto star  the u s  president tweeted early monday that  we need republican roy moore to win in alabama  ',\n",
       "       ' we need roy moore to win   trump backs alabama senate candidate  early morning tweet offers full endorsement   we need his vote  even though moore had lost backing from many republicans over sexual allegations',\n",
       "       'trump offers full support for embattled republican roy moore  president donald trump is throwing his full support behind embattled republican roy moore in the alabama senate race  trump tweeted early monday that  democrats refusal to give even one vote   click to continue  ',\n",
       "       'trump tweets support for roy moore  alabama senate candidate accused of sexual misconduct with minors   we need republican roy moore to win in alabama  ',\n",
       "       'donald trump says fbi is  in tatters   worst in history   in twitter tirade   toronto star  the twitter storm   more than a dozen tweets saturday and sunday   came after his former national security adviser  michael flynn  pleaded guilty to lying to the fbi ',\n",
       "       'russia trump  president criticised for attacking fbi  leading politicians have criticised his weekend tweets about the fbi and russia investigation ',\n",
       "       'trump tweets about the russia probe spark warnings from lawmakers  a series of tweets by u s  president donald trump about the investigation into contacts between his 2016 campaign and russia prompted concerns on sunday among both democratic and republican lawmakers ',\n",
       "       'presidential attacks on the fbi are losing their novelty  while ex justice department officials were upset by trump s tweet that the bureau is in  tatters   the general reaction was underwhelming ',\n",
       "       '5 things for december 4  tax overhaul  trump s tweets  cvs and aetna  here s what else you need to know to get up to speed and out the door ',\n",
       "       'trump s lawyer admits writing president s flynn tweet  trump s personal lawyer  john dowd  said the social media post was  my mistake  and that he had not intended  to break news  in writing it ',\n",
       "       'james b  comey  sally yates and eric holder defend fbi after trump s twitter attack   i want the american people to know this truth  the fbi is honest  the fbi is strong  and the fbi is  and always will be  independent   comey tweeted sunday  quoting his june testimony ',\n",
       "       'donald trump apos s lawyer should be disbarred if he tweeted michael flynn was fired for lying to fbi  says former ethics chief   he can tell mueller he wrote it ',\n",
       "       'trump s lawyer claims he wrote the president s  confession  tweet  other lawyers aren t buying it  claim that lawyer drafted trump tweet is met with skepticism ',\n",
       "       'trump s lawyer offered a dubious explanation for trump s bombshell tweet about michael flynn  john dowd claims he drafted president trump s tweet about michael flynn  but the explanation raises new questions ',\n",
       "       'sally yates on donald trump apos s fbi tweets   apos the only thing in tatters is the president apos s respect for the rule of law apos    the dedicated men and women of the fbi deserve better ',\n",
       "       'graham warns trump about tweeting during russia probe  lawmakers from both sides of the aisle on sunday warned president trump to use caution when tweeting about the investigation into contacts between his campaign and russia ',\n",
       "       'the 8 things you might have missed this weekend  the british government plans to crack down bitcoin amid money laundering concerns  theresa may is preparing for crunch brexit talks today  and donald trump may have landed himself in hot water with a tweet ',\n",
       "       'trump s lawyer says he wrote the president s tweet about flynn s dismissal  john dowd told abc news he wrote the tweet about flynn s firing    not trump ',\n",
       "       'trump lashes out at own fbi in a series of tweets  president donald trump is attacking his own fbi in a series of tweets and says the law enforcement agency s reputation is  in tatters   worst in history   ',\n",
       "       'trump lashes out at own fbi in a series of tweets  president donald trump launched a fresh attack sunday on the credibility of his own fbi ',\n",
       "       'who wrote that flynn tweet  trump or dowd  it hardly matters both answers are horrible for trump  and now dowd is saying that by definition  a president can t obstruct justice  pretty sure there are some people out there who d beg to differ ',\n",
       "       ' doesn t make sense   incredulity as trump s lawyer seeks to take blame for flynn tweet  john dowd claimed it was the first and last time he would craft a tweet for the president  but not everyone is buying his story',\n",
       "       'trump slams doj and fbi in weekend tweetstorm  president donald trump spent the weekend firing off tweets that took aim at the department of justice and the fbi in the wake of the guilty plea by his former national security adviser  michael flynn   i had to fire general flynn because he lied t   ',\n",
       "       'fbi agents and james comey fired back after trump called their integrity into question  a statement from the fbi agents association and an instagram post from james comey both indirectly pushed back on trump s tweets on sunday ',\n",
       "       'opinion   trump s racist tweets  my growing patriotism   the upside to him attacking outspoken black people  we can fight back and declare what america really stands for ',\n",
       "       'trump slams doj and fbi in weekend tweetstorm  president donald trump spent the weekend firing off tweets that took aim at the department of justice and the fbi in the wake of the guilty plea by his former national security adviser  michael flynn ',\n",
       "       'trump tweets people should sue abc for  damages  over  bad reporting   donald trump encouraged a class action lawsuit against abc news on sunday over a retracted report made by brian ross that sent the stock market tumbling ',\n",
       "       'report  trump attorney gives info on president s tweet about flynn lying to fbi   all the president knew was that the department was not accusing him of lying   said trump s attorney john dowd',\n",
       "       'trump lawyer takes blame for flynn tweet   i did not mean to break news   john dowd  president trump s personal attorney  took responsibility sunday for a trump tweet about the president firing michael flynn as national security adviser that sparked speculation about trump having obstructed justice ',\n",
       "       'morning mail  trump tweets may prove obstruction of justice  monday  legal experts say us president s tweet shows he knew ex adviser michael flynn had committed a serious crime  plus  turnbull targets labor mps over citizenship',\n",
       "       'top democrat says trump may have obstructed justice  based on his own tweets  the top democrat on the senate judiciary committee said sunday that she believed there might be an obstruction of justice case against president donald trump based in part on the president s own tweets related to special counsel robert mueller s p   ',\n",
       "       'lawyer says he wrote trump s tweet about michael flynn  a tweet from the president s account raised questions on whether he d obstructed justice  but trump s lawyer says he was the one who wrote the tweet ',\n",
       "       'when the president of the us decides to willfully incriminate himself in a tweet  we re better off without him as an ally  donald trump s relationship with the document he swore to protect in january has become even more special ',\n",
       "       'trump attorney says he wrote  sloppy  tweet about flynn  president trump s attorney says he crafted the tweet suggesting the commander in chief knew michael flynn lied to the fbi ',\n",
       "       'trum attorney says he wrote  sloppy  tweet about flynn  president trump s attorney says he crafted the tweet suggesting the commander in chief knew michael flynn lied to the fbi ',\n",
       "       'trump lashes out at fbi in series of tweets  u s  president donald trump is taking to twitter to attack former fbi director james comey  saying his leadership of the fbi left the agency s reputation in tatters ',\n",
       "       'president trump tweets attacks at own fbi  trump responded to revelations that an agent was removed from mueller s team',\n",
       "       'trump touts report that fbi agent was removed from russia probe  president trump latched onto the story that fbi agent peter strzok was removed from working within special counsel robert mueller s ongoing russia probe over anti trump tweets ',\n",
       "       'dowd s story about trump s tweet is ludicrous on its face  john dowd  trump s personal lawyer  pretended to fall on his sword to exonerate trump from a tweet that looked very much like an admission of obstruction   ',\n",
       "       'lawyer says he wrote  realdonaldtrump tweet about firing flynn  president donald trump s personal lawyer  john dowd  confirmed to cnn on sunday that he wrote a tweet for the  realdonaldtrump twitter account about the firing of former white house national security adviser michael flynn ',\n",
       "       'trump lashes out at own fbi in a series of tweets  washington  ap    president donald trump launched a fresh attack sunday on the credibility of his own fbi  responding to revelations that an fbi agent was removed from special counsel robert mueller s team investigating russian election meddling b   ',\n",
       "       'top democrat says trump may have obstructed justice  based on his own tweets  sen  dianne feinstein thinks  we re beginning to see the putting together of a case  against the president ',\n",
       "       'donald trump lashes out in series of early morning tweets as pressure mounts over fbi probe  the president sought to focus attention on his longtime political foil hillary clinton',\n",
       "       'obama makes subtle dig at trump saying  think before you tweet   former president barack obama made a subtle dig at president donald trump for his overuse of twitter  advising that the current commander in chief to  think before  he  tweets  ',\n",
       "       'fury at nigel farage defence of donald trump s britain first tweets  the ex ukip leader said politicians over reacted to the president retweeting videos posted by britain first ',\n",
       "       'donald trump slams fbi after flynn plea  removal of agent  president donald trump characterized the fbi as tainted and biased in a series of tweets sunday morning  two days after his former national security adviser pleaded guilty to lying to the fbi and struck a plea bargain with special counsel robert m   ',\n",
       "       'you re waking up this morning to a deluge of trump tweets  here s what they all mean   putting the president s morning into context ',\n",
       "       'trump says fbi s reputation  is in tatters   worst in history    the tweet came after reports that a veteran fbi counterintelligence agent was removed from robert mueller s team because of anti trump text messages',\n",
       "       'donald trump says on twitter he never asked james comey to quit investigating michael flynn  donald trump said in a tweet that he never asked former james comey to stop investigating michael flynn  issuing a fresh denial amid a shifting timeline on when he may have known that flynn had lied to the fbi ',\n",
       "       'trump s tweets about flynn could show he obstructed justice  say analysts  trump tweeted on saturday that he had to fire michael flynn because he lied to the fbi   so asking comey to drop flynn investigation would be a criminal act',\n",
       "       'trump attacks his own fbi in a series of tweets  president donald trump attacked his own fbi in a series of tweets and said the law enforcement agency s reputation is  in tatters   worst in history  ',\n",
       "       'mcmaster speaks to trump s tweets  north korea and middle east peace  national security adviser h r  mcmaster says neither the american people nor u s  allies should question the stability of the trump administration amid his predecessor michael flynn s guilty plea and rumors secretary of state rex tillerson is step   ',\n",
       "       'the latest  trump attacks own fbi in series of tweets  the latest on the removal of a veteran fbi agent from the special counsel s investigative team  all times local   8 30 a m  president donald trump is attacking his own fbi in   click to continue  ',\n",
       "       'nigel farage defends donald trump over his britain first re tweets  ex ukip leader nigel farage used an appearance on the bbc andrew marr show to claim the reaction has been  out of all proportion  to the offence ',\n",
       "       'trump says he never asked comey to stop flynn probe    i never asked comey to stop investigating flynn  just more fake news covering another comey lie    the president tweeted  ',\n",
       "       'trump says never asked comey to stop investigating flynn  u s  president donald trump said in a tweet on sunday he never asked former fbi director james comey to stop investigating former national security advisor michael flynn ',\n",
       "       'farage defends trump s tweets  nigel farage says donald trump can t have known what britain first was when he retweeted its inflammatory tweets ',\n",
       "       'donald trump s lawyer  wrote incriminating tweet implying president knew michael flynn lied to fbi   donald trump s tweet implying the president knew his national security adviser  michael flynn  had lied to the fbi when he fired him  was actually crafted by his lawyer  sources close to the administration have reportedly said   i had to fire gene   ',\n",
       "       'all the president s tweets aren t helping press freedom much  amid a bad year for the levels of murder or jailing of journalists around the world  trump goes on fuelling the fire',\n",
       "       'cia director  trump tweets yielding valuable intelligence  cia director mike pompeo said saturday that president donald trump s prolific twitter feed was yielding valuable intelligence ',\n",
       "       'viewpoints  as expected  lots of tweeting and turmoil in year one of trump  by patrick reddy',\n",
       "       'experts claim trump tweet provides ammo for obstruction of justice case  the president said in a tweet that he knew flynn lied to fbi when he fired him ',\n",
       "       'trump says he has nothing to fear from flynn  then stokes new controversy with tweet  the president talked to reporters and took to twitter to weigh in on the case of his former national security adviser  who pleaded guilty friday to lying to the fbi ',\n",
       "       'trump faces obstruction of justice claims over flynn tweet as critic suggests it should  apos end presidency apos   white house seeks to downplay social media post in which president claims he had to fire michael flynn  because he lied to the vice president and fbi ',\n",
       "       'trump lawyer wrote tweet implying trump knew flynn lied to fbi  trump s personal attorney was the principle wordsmith for the tweet  and it s unclear whether mr  trump saw the final version',\n",
       "       'when crude tweets set the global agenda we are surely in a new age of politics   kenan malik  donald trump s purpose is to outrage  but healthy democracy is threatened when others mimic his vacuity',\n",
       "       'trump tweet suggests he knew michael flynn lied to the fbi before he fired him  trump s tweet suggested he knew about michael flynn lying to the fbi before he fired him from the post of national security adviser in february ',\n",
       "       'believe trump s lawyer wrote that crazy  firing flynn  tweet  i ve got some great swampland for you  the tweet caused a frenzy in the legal world  as it appeared to introduce a serious added dimension of legal exposure for the president  lucky for the president the ill advised tweet  according to the white house  wasn t actually tweeted by mr  tr   ',\n",
       "       'analysis   obama should be arrested for implying trump needs a filter  fox business host suggests  lou dobbs said obama crossed a line when he criticized trump s tweeting habits ',\n",
       "       'trump s latest tweet appears to suggest he knew michael flynn lied to the fbi  after flynn was let go  the president allegedly pressured james comey to drop his probe and said flynn should ask for immunity because the investigation was a witch hunt  the white house didn t r',\n",
       "       'trump tweet sparks claims he admitted to obstruction of justice  critics claimed on saturday that trump inadvertently admitted to obstruction of justice ',\n",
       "       'critics react to trump s tweet on firing flynn  president donald trump s tweet on saturday about firing michael flynn from his position as national security adviser is garnering a lot of attention from critics    with some calling it a possible admission of obstruction of justice ',\n",
       "       'analysis   trump s first tweet about michael flynn s guilty plea could be a problem for him  did trump just admit that he knew about michael flynn s lies to the fbi when he asked james comey to take it easy on flynn ',\n",
       "       'donald trump s latest tweet proves he really doesn t understand the right to remain silent  bro  just google  miranda rights  ',\n",
       "       'trump  i knew michael flynn lied to the fbi when i fired him  trump tweets he fired michael flynn because flynn lied to the vice president and the fbi   which could play into a case of obstruction of justice against him ',\n",
       "       'trump says he fired michael flynn  because he lied  to f b i   president trump s tweet was the first time he had said the firing was not solely related to mr  flynn s false statements to vice president mike pence ',\n",
       "       ' just unreal   trump s latest tweet indicates he s  utterly clueless about his own jeopardy   experts say  president donald trump tweeted on saturday that   ',\n",
       "       'oops  trump s latest tweet about michael flynn could strengthen mueller s case against president  experts say   toronto star  on saturday  u s  president donald trump tweeted that he d fired flynn because he lied to the fbi  according to legal experts  that admission could help prosecutors build an obstruction of justice case that trump was acting  corruptly  when he urg   ',\n",
       "       'donald trump says he  had to fire  michael flynn over lies  trump tweeted he had to fire flynn because of his lies to vp pence and the fbi',\n",
       "       'twitter backtracks on why it didn t block trump s anti muslim tweets  social media platforms have a long road to clear hate speech policy and enforcement ',\n",
       "       'mueller dismisses top fbi agent in russia probe over possible anti trump texts  robert mueller  the special counsel leading the justice department s russia collusion investigation  removed an fbi agent from the case over possible anti trump tweets  fox news confirmed saturday ',\n",
       "       'trump says he fired flynn because he lied to pence  fbi  insists there s  nothing to hide    i had to fire general flynn because he lied to the vice president and the fbi   the president tweeted',\n",
       "       'trump says he fired flynn because he lied to pence  fbi  insists there s  nothing to hide    i had to fire general flynn because he lied to the vice president and the fbi   the president tweeted',\n",
       "       'what to worry about  tax reform  sexual harassment in congress  trump s tweets  as the year draws to a close  business is still very much unfinished in washington  dc ',\n",
       "       'trump tweets he knew flynn lied to fbi when he asked comey to  let flynn go   the president tried to exonerate himself by claiming he did the right thing by firing flynn  he might have incriminated himself instead ',\n",
       "       'brands heed social media but are advised not to forget word of mouth  when president trump sent an angry tweet in february blasting nordstrom for dropping his daughter ivanka s clothing line from its stores  his supporters took to social media to intensify their previous calls to boycott the retailer  nordstrom had    ',\n",
       "       'barack obama advises trump to  apos think before you tweet apos  after republican re posted far right messages  former president urges restraint',\n",
       "       'donald trump denies sacking secretary of state  rex tillerson  us secretary of state rex tillerson is not leaving  president donald trump tweeted on friday  after us officials on thursday said the white house had a plan for cia director mike pompeo to replace him ',\n",
       "       'twitter defends its decision not to take down trump s retweets of anti muslim videos  the social networking site says tweets including these kinds of videos are permitted under its media policies ',\n",
       "       ' he s not leaving   trump tweets that tillerson isn t on the outs with him  the president took to twitter to say he and his secretary of state  work well together  ',\n",
       "       'twitter changes reason for allowing trump s anti muslim retweets  twitter inc  said it allowed anti muslim videos that were re tweeted by president donald trump because they didn t break rules on forbidden content ',\n",
       "       'trump calls  fake news  over reports he fired tillerson  the us president tweeted to say the secretary of state is not leaving his role but admitted they do sometimes disagree ',\n",
       "       'trump s islamophobic tweets pissed off clinton voters more than firing up his base  fewer than half of trump voters who saw the posts said they strongly approved ',\n",
       "       'trump  tillerson is  not leaving   but  i call the final shots   trump s tweet of support for tillerson followed a lunch that both men attended with defense secretary james mattis ',\n",
       "       'michael flynn s guilty plea makes these old trump tweets seem incriminating  trump may have known far more than he    and his tweets    let on',\n",
       "       'in the age of trump  it s time to ditch the special relationship   jonathan freedland  the us president s hate filled tweets must make britain more hard headed  writes the guardian columnist jonathan freedland',\n",
       "       'steve hilton  why britain shouldn t have freaked out about trump s tweets  president trump s working trip to britain   planned for january to formally open the new american embassy in london   has now been postponed indefinitely ',\n",
       "       'how they got it right on 54bc and all that   brief letters  brief letters  muslim populations   brexit incompetence   fortnum   mason   trump s tweets   thanet invaded',\n",
       "       'james comey tweets  apos let justice roll down like waters apos  after michael flynn pleads guilty  the former fbi director was fired by president donald trump in may',\n",
       "       ' enough of being the nice women we ve been raised to be   how megyn kelly battled sexual harassment at fox and a year as the target of trump s tweets  then settled for more at nbc  megyn kelly rose through the ranks at fox news  then jumped to nbc news  and faced harassment along the way  here s how she did it ',\n",
       "       'is this why trump has gone off the rails on twitter this week   while we ve already established that donald trump has had an unusually bizarre week on twitter  even for him  it seems we maybe finally know why he s been firing off these random tweets like a drunk monkey with a smartphone ',\n",
       "       'former president barack obama   think before you tweet   new delhi  ap    when former president barack obama spoke to a leadership forum in india s capital on friday  he never once used the words  donald trump  and was careful to avoid any direct reference to his successor in the white house ',\n",
       "       'late night hosts  tillerson  wasn t afraid to stand up to world s unhinged leaders   comics  including trevor noah  and seth meyers  discussed rumors of rex tillerson s potential dismissal and the real life effects of trump s tweets',\n",
       "       'trump is angry after acquittal in killing of  beautiful  kate steinle  the verdict is  disgraceful   trump tweeted ',\n",
       "       'barack obama takes veiled jab at trump   think before you tweet   the former u s  president made the remarks during a talk in india on friday ',\n",
       "       'trump s tweets on the kate steinle verdict show a lack of understanding of the justice system  trump questioned why zarate s immigration history wasn t used in the trial  any law student could provide him an answer ',\n",
       "       'trump s twitter attack only serves to increase uk s post brexit angst   patrick wintour  us president s insulting tweet to theresa may injects urgency into growing debate about uk s future foreign policy alliances',\n",
       "       'former president barack obama   think before you tweet   new delhi  ap    when former president barack obama spoke to a leadership forum in india s capital on friday  he never once used the words  donald trump    ',\n",
       "       'trump says woman s murder shows democrats are  weak on crime   will  pay a big price  next election   toronto star  the u s  president tweeted friday about the case of jose ines garcia zarate  an undocumented mexican immigrant who was acquitted of murder ',\n",
       "       'uk woman trump accidentally tweeted awaits apology  a woman from the south coast of england is awaiting an apology from u s  president donald trump after he accidentally tweeted to her account while trying to get the attention of the british prime minister  trump initially sent a tweet condemning b   ',\n",
       "       'the other theresa may awaits trump s apology after accidental tweet   toronto star  the u s  president tweeted at a theresa may on twitter when he was trying to respond to the british prime minister  but he tweeted at a  mum from bognor  instead ',\n",
       "       'ministers braced for trump  working visit  as early as february  donald trump is expected to visit britain early next year  despite his sharing of anti muslim tweets   with the government in the dark about his decision  ministers are braced for the us president to fly in for the opening of his country s new emb   ',\n",
       "       'donald trump this week  u s  president stokes anti muslim sentiment  attacks nbc  touts tax reform  anti muslim videos  a conspiracy theory involving an nbc host  and tweets about  little rocket man   it was an especially busy week for trump s twitter account ',\n",
       "       ' wrong  theresa may  a british  mum   says trump should think before he tweets  trump thought he was addressing the leader of one of washington s closest allies  he wasn t  she was a british  mum  ',\n",
       "       'donald trump jr taken down with one question from stephen colbert  it would be fair to say donald trump jr is not famed for his twitter prowess  the president s eldest son has penned a veritable plethora of tweets which have had the twittersphere up in arms or led to him being mercilessly mocked  in light of this   ',\n",
       "       'trump  california shooting verdict was  travesty of justice   in a pre dawn tweet friday  trump took out after defendant jose ines garcia zarate  saying that he  came back and back over the weakly protected obama border  always committing crimes and being violent  ',\n",
       "       'uk woman trump accidentally tweeted awaits apology  a woman from the south coast of england is awaiting an apology from u s  president donald trump after he accidentally tweeted to her account while trying to get the attention of the british prime minister ',\n",
       "       'twitter explains why it won t remove donald trump s extremist tweets  donald trump s retweets of extremists will stay on his profile  twitter has said ',\n",
       "       'making it personal  the ultimate bespoke gifts for men  as we head  like george clooney s lurching tug boat in the perfect storm  into christmas gift frenzy proper  the idea of battling through the jostling hoards is about as appealing as donald trump s re tweets ',\n",
       "       'donald trump jr  gets served by stephen colbert over sexual harassment tweet   are you insane    maybe it s time to sit the next couple of plays out  champ ',\n",
       "       'trump calls sf jury s verdict in kate steinle case  disgraceful   president trump sounded off thursday night on a san francisco jury s verdict in the kate steinle case  tweeting that the defendant s acquittal on murder and manslaughter charges was  disgraceful  ',\n",
       "       'trump calls kate steinle verdict  disgraceful   says  no wonder  people are  angry with illegal immigration   president trump on thursday night tweeted that the not guilty verdict in the kate steinle murder case was  disgraceful   highlighting his apparent frustration at the resolution of a case he had cited during his presidential campaign as a justifica   ',\n",
       "       'the other theresa may wants president trump to watch his tweets  yet another victim of president trump s twitter sprees thinks he should think before he tweets ',\n",
       "       'canada s federal leaders slow to condemn trump s latest anti muslim tweets  ottawa   u s  president donald trump retweeted a series of inflammatory anti muslim videos on wednesday  an action that s apparently become so normalized  no federal canadian party leader immediately responded ',\n",
       "       'no known evidence of assault in border patrol agent death  despite official statements  less than a day after a border patrol agent died and another was badly injured in a november 18 incident in west texas  president donald trump tweeted that  we will seek out and bring to justice those responsible  we will  and must  build the wall   ',\n",
       "       'state depart warned trump s anti muslim tweets endangers embassies  the state department warned the white house that the president s anti muslim tweets could endanger us embassies around the world ',\n",
       "       'row over trump s far right tweets continues  the newspapers are dominated by donald trump s far right retweets and theresa may s reaction ',\n",
       "       'this graph compares trump tweets with  fox   friends   and i m sorry to even make you look  for an exclusive look into the president s brain  watch this crap ',\n",
       "       'trump tweets about fake news  ed helms will show him some real  apos fake news apos    on his new comedy central special  the former  daily show  correspondent is presenting nonsense news stories  real fake news ',\n",
       "       'trump tweeted at the wrong theresa may  now she has some advice for him   he should think before he tweets ',\n",
       "       'giants insider  vernon  didn t pay attention  to trump tweets  giants defensive end olivier vernon didn t take the bait and engage in a war of words with the president of the united states ',\n",
       "       'trump s uk visit cancelled amid outrage over far right tweets  trump was scheduled to travel to london in january for the inauguration of a new american embassy ',\n",
       "       'theresa may from bognor demands trump apologise to her after he accidentally attacks her on twitter  the woman donald trump mistakenly tweeted at in an attempt to chastise uk prime minister theresa may wants an apology   it s amazing to think that the world s most powerful man managed to press the wrong button   theresa scrivener  whose middle na   ',\n",
       "       'u k  condemns president s tweets  leaders from both britain s ruling and opposition parties have criticized president president trump for retweeting anti muslim videos posted by a far right ultranationalist british party ',\n",
       "       'sanders says trump s tweets of anti muslim videos  elevate  debate  a spokeswoman for president donald trump defended his tweets of anti muslim videos as contributions that  elevate  debate on terrorism and national security ',\n",
       "       'state dept  warned that trump s anti muslim tweets could endanger embassies  report  the president was trying to  elevate the conversation  about terrorism  according to white house press secretary sarah huckabee sanders ',\n",
       "       'trump was seeking to  elevate the conversation  with retweets of anti muslim videos  spokeswoman says  sarah huckabee sanders said trump probably didn t know whose tweets he was sharing ',\n",
       "       'trump s newest clinton email conspiracy theory  explained  why the president is tweeting about obama appointed watchdog charles mccullough ',\n",
       "       'the state department has reportedly warned the white house that trump s tweets could put american embassies in danger  the state department warned the white house that trump s tweets could put us embassies under fire in the muslim world  according to a white house official ',\n",
       "       'the wrong woman trump accidentally tweeted at while attacking theresa may wants an apology  donald trump tried to target the british prime minister   but got a 41 year old mum from bognor instead ',\n",
       "       'theresa may s condemnation of trump s far right tweets is embarrassingly weak  but is that any surprise given her record ',\n",
       "       'theresa may says tackling the far right as crucial as beating islamist terror amid trump tweet row  the prime minister has said tackling the far right is as important as dealing with islamist terrorism amid a deepening diplomatic crisis sparked by donald trump s online posts promoting the britain first group ',\n",
       "       'far right hatemongers cheer trump s twitter endorsement  trump s tweet spawn rash of islamophobic and racist comments while white nationalists and extremists praise us president',\n",
       "       'should donald trump get a state visit   debate over the planned presidential visit reopens after a series of controversial tweets ',\n",
       "       'how long can trump s tweets and serious policy development coexist   there is a stark divide between the governing aspect of the trump presidency and the tabloid aspect  assuming tax reform passes in the senate  these two worlds will have been proven capable of coexisting   at least so far ',\n",
       "       'uk mp  visit could be platform for hate for trump   cnn video  yvette cooper  labour mp and chair of the bipartisan home affairs select committee  says a trump visit to the uk could  provide a platform for further tweets or further divisive statements  ',\n",
       "       'opinion   how trump manipulates the media  a reader says the president is trying to distract from deeper analysis of the tax bill with his  ridiculous tweets  ',\n",
       "       'white house  apos warned that trump tweets could spark protests apos  at us embassies in muslim world  no incidents have been reported to date',\n",
       "       'donald trump s toxic tweets won t ruin britain and america s  special relationship   britain s  special relationship  with america looks like in trouble and looks is the operative word ',\n",
       "       'i have made my position on trump clear  said may  except she hadn t  pm faces barrage of questions on jordan trip about president s tweets as parliament shows the leadership she could not',\n",
       "       'state dept  warned white house after anti muslim tweets  after president donald trump retweeted anti muslims videos on wednesday  multiple state department officials said the department communicated to the white house that there was concern that protests could happen at us embassies ',\n",
       "       'theresa may faced the media firing squad over donald trump s tweets  but just about lived   now there s an opportunity for some questions from the err  from the media   said the prime minister  the words as happy in her mouth as what us comedian tim allen used to call a  vomit burp   usually you can tell when theresa may is terrified  b   ',\n",
       "       'may walks a diplomatic tightrope after trump s tweets  a diplomatic spat flared overnight when trump tweeted that may should mind her own business after her spokesman reproached him over his retweets of britain first',\n",
       "       'republicans back theresa may in twitter row with donald trump  republicans have spoken out in support of theresa may after donald trump made a jibe at the prime minister in an ongoing transatlantic row over his sharing of far right tweets ',\n",
       "       'trump blasts theresa may on twitter  but he blasted the one with 6 followers  president donald trump got the wrong woman and twitter users were there to screen grab the evidence  trump s tweet came at 1 a m  gmt  when many brits were fast asleep  it   click to continue  ',\n",
       "       'former twitter employee who disabled trump account says it was mistake  twitter s terms of service says you can t express hate in tweet  unless it s newsworthy',\n",
       "       'trump s tweets and the irish border   politics weekly podcast  anushka asthana is joined by andrew lilico  polly toynbee  brian klaas and brendan cox to discuss outrage at president trump s sharing of anti muslim videos  plus rte s tony connelly on the irish border and brexit',\n",
       "       'u k  outcry at trump s tweets reopens fight over state visit  lawmakers responded angrily after the president shared videos from a british far right group  then rebuked prime minister theresa may ',\n",
       "       'morning joe scarborough says president is profoundly  unstable    morning joe  scarborough uncorked a lengthy attack on president trump s mental fitness for office on thursday  after trump tweeted a conspiracy theory about him ',\n",
       "       'videos tweeted by trump  where are they from and what do they really show   these videos have been circulating on far right websites since 2013 as ammunition in an online infowar',\n",
       "       'bognor s  theresamay awaits apology after trump s twitter tirade  us president s tweet aimed at british pm was initially directed at a woman from sussex with six twitter followers',\n",
       "       'u s  and u k  s  special relationship  is tested by trump tweets  relations between the u s  and britain appeared to be further strained after president donald trump shared inflammatory anti islam videos posted by a u k  far right group ',\n",
       "       'don apos t blame amber rudd for reminding mps of  apos the bigger picture apos  in the donald trump tweet scandal   she has a point  even if brexit goes as well as it possibly can  the uk will need some new partners around the world  when the trump era will be just an unpleasant memory  trump is not america  and america is not trump',\n",
       "       'what is britain first  the far right group re tweeted by president trump   the office of prime minister theresa may said britain first  seeks to divide communities through their use of hateful narratives  ',\n",
       "       ' wrong  theresa may tagged in donald trump tweet asks white house for apology  a british woman who donald trump tweeted  wrongly including her twitter name instead of the prime minister s  has described how she was on the end of relentless tweets after the mistake ',\n",
       "       'trump goes after new york times as newspaper s editorial page opposes tax cuts  in two tweets thursday morning  trump hit back against a times editorial campaign urging readers to call gop senators to oppose tax cuts',\n",
       "       'uk expresses concern over trump tweets to white house  the uk ambassador to the u s  expressed his concern over mr  trump s retweets to white house officials on wednesday  uk pm theresa may also weighed in',\n",
       "       'trump completely botches new york times attack over tax bill tweets   the president is mistaken   tweeted clifford levy  the paper s deputy managing editor ',\n",
       "       'uk ambassador raises concerns about trump tweets with the white house  britain s ambassador to the us has responded to donald trump sharing a british far right organisation s anti muslim videos  kim darroch tweeted to say he has  raised concerns  with the white house  more follows ',\n",
       "       'michelle obama seems to take a jab at trump over his twitter habits  former first lady michelle obama has some advice for those on twitter and possible president trump  don t  tweet from bed   nathan rousseau smith   fantasticmrnate  reports ',\n",
       "       'trump s tweets raise fresh brexit questions  does uk risk ending up isolated on the word stage  at arm s length from the eu and us ',\n",
       "       'after his controversial tweets  uk politicians want to cancel trump s state visit   again   it s increasingly clear that any official visit from president trump to britain would not be welcomed   london mayor sadiq khan said in a statement thursday morning ',\n",
       "       'trump s anti muslim tweets were  wrong thing to do   british pm says  british prime minister theresa may says president donald trump s retweets from a far right group were  the wrong thing to do   calling the group  britain first   a hateful organization  that runs counter to  common british decency  ',\n",
       "       'theresa may delivers stinging rebuke to donald trump over far right retweets  theresa may has issued a stinging rebuke to president donald trump over his decision to tweet far right propaganda  warning the uk takes the threat of such groups very seriously and is not afraid to stand up to the us ',\n",
       "       'jimmy kimmel rightfully calls out donald trump on his matt lauer tweets   is he aware that he s him  ',\n",
       "       'britain should demand an apology from trump and cancel his state visit   martin kettle  the us president s foul tweet aims a wrecking ball at theresa may  it will do untold damage to the  special relationship   writes guardian columnist martin kettle',\n",
       "       'london mayor urges may to cancel trump s u k  state visit  after the president retweeted a tweet from a  vile  extremist group ',\n",
       "       'theresa may says trump remains welcome in the uk despite twitter attack  the prime minister said trump s tweets were  wrong  but his invitation to come to the uk remained ',\n",
       "       'may reiterates that trump was  wrong  to retweet britain first  prime minister theresa may dodged questions from journalists on thursday about whether donald trump s state visit to the uk should be scrapped in light of his dissemination of islamophobic tweets from the deputy leader of far right group britain f   ',\n",
       "       'theresa may just refused a challenge to confront trump over his tweets  theresa may has ducked a challenge to say she will confront donald trump over his anti muslim tweets   and confirmed his state visit is still on  speaking in jordan  the prime minister repeated her criticism of the us president s actions  saying     ',\n",
       "       'listen  ann coulter defends trump s tweet attack on theresa may  conservative commentator ann coulter defends donald trump s tweet attack on prime minister theresa may ',\n",
       "       'trump  chinese envoy had  no impact  on  little rocket man   in a thursday morning tweet  president trump scoffed at the chinese s attempt to rein in kim jong un  while calling out the north korean leader for keeping his people in poverty ',\n",
       "       'bbc radio 4 defends ann coulter interview on today programme  presenter nick robinson defends criticism on social media after programme interviewed rightwing us commentator over donald trump s tweets',\n",
       "       'theresa may tackles donald trump over tweets on trip to jordan  theresa may has launched her first direct condemnation of donald trump  saying she is  very clear that re tweeting from britain first was the wrong thing to do  ',\n",
       "       'bush and obama told muslims we belong in america  trump s tweets tell us we don t   by retweeting anti muslim propaganda videos  trump sent a troubling message to americans ',\n",
       "       'uk faces calls to cancel trump s state visit over tweets  growing calls to cancel president donald trump s state visit to britain have put queen elizabeth ii   who would host the u s  president   in a difficult position ',\n",
       "       'sadiq calls trump far right tweets a  betrayal of the special relationship   sadiq khan has joined a wave of british politicians denouncing donald trump after he shared tweets from the far right britain first group  call his actions  a betrayal of the special relationship    the london mayor hit out after mr trump caused o   ',\n",
       "       'donald trump just accused the new york times of misusing social media  without irony  donald trump has tweeted repeated messages about the media s use of social media  while failing to address a growing diplomatic row about his own tweeting  the president has become embroiled in an unprecedented international row after he retweeted   ',\n",
       "       'theresa may responds to donald trump s tweet telling her how to do her job  theresa may has responded to donald trump s online post suggesting she has been distracted from tackling terrorism  by hitting back that she is  fully focussed dealing with extremism   more follows ',\n",
       "       'trump is promoting hatred  says husband of murdered mp jo cox  brendan cox hits back at president after he attacked pm for criticising far right tweets saying he should focus on us shootings',\n",
       "       'rudd tells trump critics  focus on  bigger picture  of uk us relations  home secretary responds to urgent question after us president tweets videos posted by britain first',\n",
       "       'a very british row  donald trump s rebuke to theresa may was not just another tweet',\n",
       "       'uk repeats trump tweet condemnation  uk home secretary amber rudd says the us president was  wrong  to retweet posts by a far right group ',\n",
       "       'watch live  house of commons discuss donald trump s tweets  members of the house of commons discuss us president donald trump s tweets about prime minister theresa may ',\n",
       "       'rudd  trump was  wrong  with far right tweets  but us uk relationship is key to national security  home secretary amber rudd has sharply criticised donald trump s dissemination of inflammatory islamophobic tweets  but responded to calls to scrap the president s visit to the uk by urging fellow mps to remember the  bigger picture  of the crucial   ',\n",
       "       '5 things for november 30  lauer  kushner  trump tweets  tax overhaul  economy  here s what else you need to know to get up to speed and out the door ',\n",
       "       'the government just told mps outraged by trump s islamophobic tweets to  remember the bigger picture   amber rudd has urged mps to see  the bigger picture  in close uk us relations  as anger over donald trump s  racist  tweets grows  the home secretary pointed to the  unparalleled sharing of intelligence  between the two countries  answering an urg   ',\n",
       "       'sadiq khan blasts back at donald trump after anti muslim video tweets  donald trump s re tweets of far right group britain first are a  betrayal of the special relationship   sadiq khan has said ',\n",
       "       'trump hits back at may over anti muslim tweets  ',\n",
       "       'the woman behind the donald trump islamophobic tweets speaks out  the conservative commentator who shared islamophobic tweets by the deputy leader of britain first with donald trump has claimed it is  irrelevant  the inflammatory posts he subsequently circulated to millions of people were misleading ',\n",
       "       'donald trump is  trying to humiliate  theresa may with late night tweets  donald trump is  trying to humiliate and belittle  theresa may  labour s shadow foreign secretary has warned   blaming her  bad judgement  for the crisis  emily thornberry said the prime minister had made the error of  trying to be friends  with t   ',\n",
       "       'donald trump attacks theresa may over britain first retweets   live updates  donald trump has sparked an unprecedented diplomatic spat after telling theresa may to mind her own business following criticism of the us president s latest tweets ',\n",
       "       'donald trump attacks the wrong  theresa may  on twitter  donald trump tweeted the wrong  theresa may  as he attempted to hit back at the british prime minister following her criticism of his britain first retweet ',\n",
       "       'trump is mocked mercilessly for tweeting the wrong theresa may  a theresa may from bognor regis with just six followers on twitter inadvertently found herself at the centre of a political row between donald trump and the prime minister last night ',\n",
       "       'david duke praises trump for sharing anti muslim videos  david duke praised trump in a tweet on wednesday after the president retweeted three islamophobic videos ',\n",
       "       'donald trump blasts theresa may over her criticism of far right  britain first  tweets  the  special relationship  under pressure '],\n",
       "      dtype='<U565')"
      ]
     },
     "execution_count": 347,
     "metadata": {},
     "output_type": "execute_result"
    }
   ],
   "source": [
    "trump_idx = count_vectorizer.vocabulary_['trump']\n",
    "tweet_idx = count_vectorizer.vocabulary_['tweet']\n",
    "print('trump index:',trump_idx)\n",
    "print('tweet index:',tweet_idx)\n",
    "\n",
    "trump_tweet_articles = doc_term_matrix_count[:,trump_idx].multiply(doc_term_matrix_count[:,tweet_idx]).nonzero()[0]\n",
    "print('Cantidad de Articulos:', len(trump_tweet_articles))\n",
    "print('Articulos')\n",
    "np.array(preprocesed_sentences)[trump_tweet_articles]"
   ]
  },
  {
   "cell_type": "markdown",
   "metadata": {},
   "source": [
    "## TF-IDF (Term Frecuency - Inverse document frecuency)\n",
    "- TF -> Cantidad de veces que aparece una palabra particular en el documento\n",
    "- DF -> Cantidad de documentos en los que aparece esa palabra particular\n",
    "- Ademas se normaliza\n",
    "\n",
    "No es exactamente el cociente pero la idea general es esa:\n",
    "\n",
    "http://scikit-learn.org/stable/modules/feature_extraction.html#tfidf-term-weighting"
   ]
  },
  {
   "cell_type": "code",
   "execution_count": 265,
   "metadata": {
    "collapsed": true
   },
   "outputs": [],
   "source": [
    "tfidf_transformer = TfidfTransformer(norm=u'l2', use_idf=True, smooth_idf=True, sublinear_tf=False)"
   ]
  },
  {
   "cell_type": "code",
   "execution_count": 268,
   "metadata": {},
   "outputs": [],
   "source": [
    "doc_term_matrix_tfidf = tfidf_transformer.fit_transform(doc_term_matrix_count)"
   ]
  },
  {
   "cell_type": "code",
   "execution_count": 270,
   "metadata": {},
   "outputs": [
    {
     "data": {
      "text/plain": [
       "(38246, 22695)"
      ]
     },
     "execution_count": 270,
     "metadata": {},
     "output_type": "execute_result"
    }
   ],
   "source": [
    "doc_term_matrix_tfidf.shape"
   ]
  },
  {
   "cell_type": "code",
   "execution_count": 274,
   "metadata": {},
   "outputs": [
    {
     "data": {
      "text/plain": [
       "<38246x22695 sparse matrix of type '<class 'numpy.float64'>'\n",
       "\twith 702062 stored elements in Compressed Sparse Row format>"
      ]
     },
     "execution_count": 274,
     "metadata": {},
     "output_type": "execute_result"
    }
   ],
   "source": [
    "doc_term_matrix_tfidf"
   ]
  },
  {
   "cell_type": "code",
   "execution_count": 289,
   "metadata": {},
   "outputs": [
    {
     "data": {
      "text/plain": [
       "1.0000000000000002"
      ]
     },
     "execution_count": 289,
     "metadata": {},
     "output_type": "execute_result"
    }
   ],
   "source": [
    "# Verificamos que estan normalizados\n",
    "index = 10\n",
    "(doc_term_matrix_tfidf[index]*doc_term_matrix_tfidf[index].T).sum()"
   ]
  },
  {
   "cell_type": "markdown",
   "metadata": {},
   "source": [
    "## Encontrar articulos relacionados"
   ]
  },
  {
   "cell_type": "code",
   "execution_count": 290,
   "metadata": {
    "collapsed": true
   },
   "outputs": [],
   "source": [
    "from sklearn.neighbors import NearestNeighbors"
   ]
  },
  {
   "cell_type": "code",
   "execution_count": 293,
   "metadata": {},
   "outputs": [],
   "source": [
    "nearest_neig = NearestNeighbors(n_neighbors = 10, algorithm='brute', radius = 1.0, metric = 'cosine')"
   ]
  },
  {
   "cell_type": "code",
   "execution_count": 294,
   "metadata": {
    "collapsed": true
   },
   "outputs": [],
   "source": [
    "nearest_neig_fitted = nearest_neig.fit(doc_term_matrix_tfidf)"
   ]
  },
  {
   "cell_type": "code",
   "execution_count": 311,
   "metadata": {},
   "outputs": [
    {
     "data": {
      "text/plain": [
       "(array([[ 0.        ,  0.        ,  0.1128909 ,  0.14895583,  0.16753991,\n",
       "          0.26477447,  0.51142003,  0.53651656,  0.60692289,  0.67297547]]),\n",
       " array([[    3,  1215,  1604,  1623,  1649,   949,  1050,   164,  1391,\n",
       "         33997]]))"
      ]
     },
     "execution_count": 311,
     "metadata": {},
     "output_type": "execute_result"
    }
   ],
   "source": [
    "similar_to_article = 3\n",
    "distances, indexes = nearest_neig_fitted.kneighbors(doc_term_matrix_tfidf[similar_to_article])\n",
    "distances, indexes"
   ]
  },
  {
   "cell_type": "code",
   "execution_count": 312,
   "metadata": {},
   "outputs": [
    {
     "data": {
      "text/plain": [
       "array([ 'la will become largest us city with recreational pot  los angeles is in line to become the nation s largest city with legal recreational marijuana after the city council voted wednesday to license sales and cultivation next year ',\n",
       "       'la will become largest us city with recreational pot  los angeles is in line to become the nation s largest city with legal recreational marijuana after the city council voted wednesday to license sales and cultivation next year ',\n",
       "       'la to become largest us city with recreational pot  los angeles will become the nation s largest city with recreational pot after the city council voted wednesday to license sales next year ',\n",
       "       'la to become largest us city with recreational pot  los angeles will become the nation s largest city with recreational pot after the city council voted wednesday to license sales next year  after months of debate and political snags  the   click to continue  ',\n",
       "       'los angeles to become largest us city with recreational pot  los angeles will become the nation s largest city with recreational pot after the city council voted to license sales next year ',\n",
       "       'los angeles in line to become largest u s  city with recreational cannabis   toronto star  america s second largest city voted wednesday to license sales and cultivation of marijuana next year ',\n",
       "       'la to become largest us city with recreational marijuana  the american city known as a temple of coastal elites is about to get even more liberal ',\n",
       "       'los angeles is set to become the largest u s  city with legal marijuana   we do big stuff  that s who we are  that s how we roll  ',\n",
       "       'l a  just legalized recreational marijuana  here s when you can buy it  the city will issue licenses next year',\n",
       "       'how sacramento will regulate recreational marijuana  city leaders in sacramento have approved regulations for recreational use marijuana shops '],\n",
       "      dtype='<U565')"
      ]
     },
     "execution_count": 312,
     "metadata": {},
     "output_type": "execute_result"
    }
   ],
   "source": [
    "np.array(preprocesed_sentences)[indexes][0]"
   ]
  },
  {
   "cell_type": "markdown",
   "metadata": {},
   "source": [
    "## Topic Modeling\n",
    "http://scikit-learn.org/stable/modules/generated/sklearn.decomposition.NMF.html"
   ]
  },
  {
   "cell_type": "code",
   "execution_count": 348,
   "metadata": {
    "collapsed": true
   },
   "outputs": [],
   "source": [
    "from sklearn.decomposition import NMF, LatentDirichletAllocation"
   ]
  },
  {
   "cell_type": "code",
   "execution_count": 361,
   "metadata": {},
   "outputs": [],
   "source": [
    "NMF_model = NMF(n_components=10, random_state=1,alpha=0.1, l1_ratio=0.5, max_iter=200, tol=1e-4)\n",
    "W = NMF_model.fit_transform(doc_term_matrix_tfidf)\n",
    "H = NMF_model.components_"
   ]
  },
  {
   "cell_type": "code",
   "execution_count": 362,
   "metadata": {},
   "outputs": [
    {
     "name": "stdout",
     "output_type": "stream",
     "text": [
      "(38246, 10) (10, 22695) (38246, 22695)\n"
     ]
    }
   ],
   "source": [
    "print(W.shape, H.shape,doc_term_matrix_tfidf.shape)"
   ]
  },
  {
   "cell_type": "code",
   "execution_count": 369,
   "metadata": {
    "collapsed": true
   },
   "outputs": [],
   "source": [
    "def print_top_words(H, feature_names, n_top_words):\n",
    "    for topic_idx, topic in enumerate(H):\n",
    "        message = \"Topic #%d: \" % topic_idx\n",
    "        message += \", \".join([feature_names[i]\n",
    "                             for i in topic.argsort()[:-n_top_words - 1:-1]])\n",
    "        print(message)\n",
    "    print()"
   ]
  },
  {
   "cell_type": "markdown",
   "metadata": {},
   "source": [
    "### Listado de topics"
   ]
  },
  {
   "cell_type": "code",
   "execution_count": 370,
   "metadata": {},
   "outputs": [
    {
     "name": "stdout",
     "output_type": "stream",
     "text": [
      "Topic #0: new, make, say, time, christmas, best, people, holiday, 2017, york\n",
      "Topic #1: trump, president, donald, donald trump, jerusalem, israel, capital, president donald, israel capital, jerusalem israel\n",
      "Topic #2: tax, republican, senate, gop, plan, reform, cut, tax reform, tax cut, tax plan\n",
      "Topic #3: flynn, michael, michael flynn, guilty, fbi, national security, security, adviser, lie, plea\n",
      "Topic #4: sexual, harassment, sexual harassment, lauer, allegation, matt, matt lauer, misconduct, sexual misconduct, conyers\n",
      "Topic #5: year, old, year old, girl, boy, person year, person, old girl, time, miss\n",
      "Topic #6: police, man, say, shoot, officer, charge, kill, arrest, woman, police say\n",
      "Topic #7: world, cup, world cup, draw, england, 2018, russia, cup draw, australia, final\n",
      "Topic #8: korea, north, north korea, missile, south, korean, nuclear, south korea, test, north korean\n",
      "Topic #9: moore, roy, roy moore, alabama, senate, republican, candidate, alabama senate, senate candidate, kimmel\n",
      "\n"
     ]
    }
   ],
   "source": [
    "print_top_words(H, count_vectorizer.get_feature_names(), 10)"
   ]
  },
  {
   "cell_type": "markdown",
   "metadata": {},
   "source": [
    "### Paginas en topics"
   ]
  },
  {
   "cell_type": "code",
   "execution_count": 391,
   "metadata": {},
   "outputs": [
    {
     "data": {
      "text/plain": [
       "array([1, 4, 0, ..., 8, 0, 9])"
      ]
     },
     "execution_count": 391,
     "metadata": {},
     "output_type": "execute_result"
    }
   ],
   "source": [
    "pages_top_topic_index = np.argsort(W)[:,-1]\n",
    "pages_top_topic_index"
   ]
  },
  {
   "cell_type": "code",
   "execution_count": 414,
   "metadata": {},
   "outputs": [],
   "source": [
    "topic_id = 8\n",
    "pages_in_topic = np.where(pages_top_topic_index==topic_id)[0]"
   ]
  },
  {
   "cell_type": "code",
   "execution_count": 415,
   "metadata": {},
   "outputs": [],
   "source": [
    "pages_idx_sorted = np.argsort(W[pages_in_topic][:,topic_id])[::-1]"
   ]
  },
  {
   "cell_type": "code",
   "execution_count": 416,
   "metadata": {},
   "outputs": [
    {
     "data": {
      "text/plain": [
       "array([ 'south korea doubts north korea s ability to launch nuclear icbm  south korea s foreign minister says there is  no concrete evidence  that north korea has mastered delivering a nuclear armed intercontinental ballistic missile ',\n",
       "       'could north korea s nuclear tipped missile actually reach entire us   north korea s bomb blast rhetoric might just bombast ',\n",
       "       'the north korea standoff will get worse  in the dark of night tuesday  north korea launched its latest mobile missile  a humongous intercontinental range   ',\n",
       "       'why north korea s latest ballistic missile test is worrisome  the latest test means a significant step forward in north korea s missile development ',\n",
       "       'surgeon says  it s a miracle  north korea defector is alive  the soldier from north korea was like a  broken jar  when he arrived at the south korea trauma center ',\n",
       "       'stability and strategy  why is china so easy on north korea   while the world watches with concern as north korea tests yet another missile  china continues to be a friend to kim jong un s regime ',\n",
       "       'an airline crew reported seeing north korea s latest missile  the incident highlights the unsettling fact that north korea does not typically announce its missile tests ',\n",
       "       'north korea s nuclear weapons program has grown with each kim regime  after north korea launched its first successful intercontinental ballistic missile  kim jong un doesn t want to back down ',\n",
       "       'north korea s new missile could reach washington  seoul  it s also considerably larger than north korea s previous icbm',\n",
       "       'opinion   madeleine albright  how to protect the world from north korea  maneuvering with north korea is precarious and complicated  but a thoughtful strategy is imperative for the nuclear safety of the planet '],\n",
       "      dtype='<U565')"
      ]
     },
     "execution_count": 416,
     "metadata": {},
     "output_type": "execute_result"
    }
   ],
   "source": [
    "np.array(preprocesed_sentences)[pages_in_topic][pages_idx_sorted][:10]"
   ]
  }
 ],
 "metadata": {
  "kernelspec": {
   "display_name": "Python 3",
   "language": "python",
   "name": "python3"
  },
  "language_info": {
   "codemirror_mode": {
    "name": "ipython",
    "version": 3
   },
   "file_extension": ".py",
   "mimetype": "text/x-python",
   "name": "python",
   "nbconvert_exporter": "python",
   "pygments_lexer": "ipython3",
   "version": "3.6.2"
  },
  "toc": {
   "nav_menu": {},
   "number_sections": true,
   "sideBar": true,
   "skip_h1_title": true,
   "toc_cell": false,
   "toc_position": {},
   "toc_section_display": "block",
   "toc_window_display": false
  }
 },
 "nbformat": 4,
 "nbformat_minor": 2
}
