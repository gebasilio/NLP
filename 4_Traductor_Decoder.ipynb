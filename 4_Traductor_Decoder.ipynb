{
 "cells": [
  {
   "cell_type": "code",
   "execution_count": 9,
   "metadata": {
    "collapsed": true
   },
   "outputs": [],
   "source": [
    "from keras.models import Input, Model\n",
    "from keras.layers import Dense, LSTM, Embedding\n",
    "from translator_helper import get_data_as_words, get_words_embedding_model, get_words_embedding_model_inference\n",
    "import numpy as np\n",
    "from nltk.translate.bleu_score import corpus_bleu"
   ]
  },
  {
   "cell_type": "markdown",
   "metadata": {},
   "source": [
    "## Inference Model"
   ]
  },
  {
   "cell_type": "code",
   "execution_count": 19,
   "metadata": {},
   "outputs": [
    {
     "name": "stdout",
     "output_type": "stream",
     "text": [
      "____________________________________________________________________________________________________\n",
      "Layer (type)                     Output Shape          Param #     Connected to                     \n",
      "====================================================================================================\n",
      "input_5 (InputLayer)             (None, None)          0                                            \n",
      "____________________________________________________________________________________________________\n",
      "input_6 (InputLayer)             (None, None)          0                                            \n",
      "____________________________________________________________________________________________________\n",
      "embedding_5 (Embedding)          (None, None, 128)     556928      input_5[0][0]                    \n",
      "____________________________________________________________________________________________________\n",
      "embedding_6 (Embedding)          (None, None, 128)     1177344     input_6[0][0]                    \n",
      "____________________________________________________________________________________________________\n",
      "lstm_5 (LSTM)                    [(None, 128), (None,  131584      embedding_5[0][0]                \n",
      "____________________________________________________________________________________________________\n",
      "lstm_6 (LSTM)                    [(None, None, 128), ( 131584      embedding_6[0][0]                \n",
      "                                                                   lstm_5[0][1]                     \n",
      "                                                                   lstm_5[0][2]                     \n",
      "____________________________________________________________________________________________________\n",
      "dense_3 (Dense)                  (None, None, 9198)    1186542     lstm_6[0][0]                     \n",
      "====================================================================================================\n",
      "Total params: 3,183,982\n",
      "Trainable params: 3,183,982\n",
      "Non-trainable params: 0\n",
      "____________________________________________________________________________________________________\n",
      "_________________________________________________________________\n",
      "Layer (type)                 Output Shape              Param #   \n",
      "=================================================================\n",
      "input_5 (InputLayer)         (None, None)              0         \n",
      "_________________________________________________________________\n",
      "embedding_5 (Embedding)      (None, None, 128)         556928    \n",
      "_________________________________________________________________\n",
      "lstm_5 (LSTM)                [(None, 128), (None, 128) 131584    \n",
      "=================================================================\n",
      "Total params: 688,512\n",
      "Trainable params: 688,512\n",
      "Non-trainable params: 0\n",
      "_________________________________________________________________\n",
      "____________________________________________________________________________________________________\n",
      "Layer (type)                     Output Shape          Param #     Connected to                     \n",
      "====================================================================================================\n",
      "input_6 (InputLayer)             (None, None)          0                                            \n",
      "____________________________________________________________________________________________________\n",
      "embedding_6 (Embedding)          (None, None, 128)     1177344     input_6[0][0]                    \n",
      "____________________________________________________________________________________________________\n",
      "State_input_h (InputLayer)       (None, 128)           0                                            \n",
      "____________________________________________________________________________________________________\n",
      "State_input_c (InputLayer)       (None, 128)           0                                            \n",
      "____________________________________________________________________________________________________\n",
      "lstm_6 (LSTM)                    [(None, None, 128), ( 131584      embedding_6[1][0]                \n",
      "                                                                   State_input_h[0][0]              \n",
      "                                                                   State_input_c[0][0]              \n",
      "____________________________________________________________________________________________________\n",
      "dense_3 (Dense)                  (None, None, 9198)    1186542     lstm_6[1][0]                     \n",
      "====================================================================================================\n",
      "Total params: 2,495,470\n",
      "Trainable params: 2,495,470\n",
      "Non-trainable params: 0\n",
      "____________________________________________________________________________________________________\n"
     ]
    }
   ],
   "source": [
    "num_samples = 28500 #10000\n",
    "latent_dim = 128 #256\n",
    "english_sentences, french_sentences, \\\n",
    "encoder_input_data, decoder_input_data, decoder_target_data, \\\n",
    "num_encoder_tokens, num_decoder_tokens, \\\n",
    "idx2Word_en, idx2Word_fr, \\\n",
    "word2Idx_en, word2Idx_fr = get_data_as_words(num_samples = num_samples)\n",
    "\n",
    "model, encoder_model, decoder_model = get_words_embedding_model_inference(num_encoder_tokens, num_decoder_tokens, latent_dim = latent_dim)\n",
    "model.summary()\n",
    "encoder_model.summary()\n",
    "decoder_model.summary()"
   ]
  },
  {
   "cell_type": "code",
   "execution_count": 33,
   "metadata": {},
   "outputs": [
    {
     "name": "stdout",
     "output_type": "stream",
     "text": [
      "seq2seq_enc_dec_model_128_28500_best.hdf5\n"
     ]
    }
   ],
   "source": [
    "#seq2seq_enc_dec_model_50\n",
    "#seq2seq_enc_dec_model_256\n",
    "#testing_256.hdf5\n",
    "#name = 'seq2seq_enc_dec_model_128_28500.hdf5'\n",
    "#name = 'seq2seq_enc_dec_model_'+str(latent_dim)+'.hdf5'\n",
    "name = 'seq2seq_enc_dec_model_128_28500_best.hdf5'\n",
    "print(name)\n",
    "model.load_weights(name)"
   ]
  },
  {
   "cell_type": "code",
   "execution_count": 34,
   "metadata": {
    "collapsed": true
   },
   "outputs": [],
   "source": [
    "max_decoder_seq_length = decoder_target_data.shape[1]\n",
    "def decode_sequence(input_seq):\n",
    "    # Encode the input as state vectors.\n",
    "    states_value = encoder_model.predict(input_seq)\n",
    "    \n",
    "    target_seq = np.array([word2Idx_fr['<start>']])\n",
    "    \n",
    "    # Sampling loop for a batch of sequences\n",
    "    # (to simplify, here we assume a batch of size 1).\n",
    "    stop_condition = False\n",
    "    decoded_sentence = ''\n",
    "    while not stop_condition:\n",
    "        output_tokens, h, c = decoder_model.predict(\n",
    "            [target_seq] + states_value)\n",
    "        \n",
    "        # Sample a token\n",
    "        sampled_token_index = np.argmax(output_tokens[0, -1, :])\n",
    "        \n",
    "        sampled_char = idx2Word_fr[sampled_token_index]\n",
    "        decoded_sentence = decoded_sentence + sampled_char + ' '\n",
    "\n",
    "        # Exit condition: either hit max length\n",
    "        # or find stop character.\n",
    "        if (sampled_char == '<stop>' or\n",
    "           len(decoded_sentence) > max_decoder_seq_length):\n",
    "            stop_condition = True\n",
    "\n",
    "        # Update the target sequence (of length 1).\n",
    "        target_seq = np.array([sampled_token_index])\n",
    "\n",
    "        # Update states\n",
    "        states_value = [h, c]\n",
    "    return decoded_sentence"
   ]
  },
  {
   "cell_type": "code",
   "execution_count": 35,
   "metadata": {
    "collapsed": true
   },
   "outputs": [],
   "source": [
    "### 0, 10, 19, 1000, 1001\n",
    "def translate(sec_n = 0):\n",
    "    input_seq = encoder_input_data[sec_n:sec_n+1]\n",
    "    # print([idx2Word_en[word] for word in input_seq[0]])\n",
    "    decoded_sentence = decode_sequence(input_seq)\n",
    "    return decoded_sentence.replace('<stop>','').split(), \\\n",
    "        french_sentences[sec_n].replace('<START>','').replace('<STOP>','').lower().split()"
   ]
  },
  {
   "cell_type": "code",
   "execution_count": 36,
   "metadata": {},
   "outputs": [
    {
     "name": "stdout",
     "output_type": "stream",
     "text": [
      "Creating references indexes\n",
      "Creating references and translating\n",
      "Created!\n"
     ]
    }
   ],
   "source": [
    "def get_ref_and_cand(english_sentences, french_sentences, number_translations):\n",
    "    english_sentences_np = np.array(english_sentences)\n",
    "    french_sentences_as_list = [sen.replace('<START>','').replace('<STOP>','').lower().split() for sen in french_sentences]\n",
    "    french_sentences_np = np.array(french_sentences_as_list)\n",
    "    print('Creating references indexes')\n",
    "    reference_indexes = []\n",
    "    for eng_np in english_sentences_np:\n",
    "        indxs = np.array(np.where(english_sentences_np==eng_np)[0])\n",
    "        if (len(reference_indexes)>0):\n",
    "            if len(reference_indexes[-1])!=len(indxs):\n",
    "                result = 0\n",
    "            else:\n",
    "                result = (reference_indexes[-1] == indxs).prod()  \n",
    "            if (result==0):\n",
    "                reference_indexes.append(indxs)\n",
    "        else:\n",
    "            reference_indexes.append(indxs)\n",
    "    print('Creating references and translating')\n",
    "    references = []\n",
    "    candidates = []\n",
    "    count = 0\n",
    "    for ref_idx  in reference_indexes[:number_translations]:\n",
    "        reference = list(french_sentences_np[ref_idx])\n",
    "        references.append(reference)\n",
    "        candidates.append(translate(count)[0])\n",
    "        count = count+len(reference)\n",
    "    print('Created!')\n",
    "    return references, candidates\n",
    "references, candidates = get_ref_and_cand(english_sentences, french_sentences, 1000)"
   ]
  },
  {
   "cell_type": "code",
   "execution_count": 37,
   "metadata": {},
   "outputs": [
    {
     "data": {
      "text/plain": [
       "[[['va', '!']],\n",
       " [['cours', '!'], ['courez', '!']],\n",
       " [['ça', 'alors', '!']],\n",
       " [['au', 'feu', '!']],\n",
       " [['à', 'l', \"'aide\", '!']],\n",
       " [['saute', '.']],\n",
       " [['ça', 'suffit', '!'], ['stop', '!'], ['arrête-toi', '!']],\n",
       " [['attends', '!'], ['attendez', '!']],\n",
       " [['je', 'comprends', '.']],\n",
       " [['j', \"'essaye\", '.']]]"
      ]
     },
     "execution_count": 37,
     "metadata": {},
     "output_type": "execute_result"
    }
   ],
   "source": [
    "references[:10]"
   ]
  },
  {
   "cell_type": "code",
   "execution_count": 40,
   "metadata": {},
   "outputs": [
    {
     "data": {
      "text/plain": [
       "[['va', '!'],\n",
       " ['!'],\n",
       " ['à', 'c', \"'est\", 'à', 'vous'],\n",
       " ['au', 'l', 'train', 'de', 'feu'],\n",
       " ['arrête', '!'],\n",
       " ['vous', '.'],\n",
       " ['arrête', '!'],\n",
       " ['!'],\n",
       " ['je', 'me', 'sens', 'bien'],\n",
       " ['j', \"'ai\", 'été', 'vais', '.']]"
      ]
     },
     "execution_count": 40,
     "metadata": {},
     "output_type": "execute_result"
    }
   ],
   "source": [
    "candidates[:10]"
   ]
  },
  {
   "cell_type": "code",
   "execution_count": 39,
   "metadata": {},
   "outputs": [
    {
     "name": "stdout",
     "output_type": "stream",
     "text": [
      "0.3037798564756852\n"
     ]
    }
   ],
   "source": [
    "score = corpus_bleu(references, candidates)\n",
    "print(score)"
   ]
  },
  {
   "cell_type": "code",
   "execution_count": 7,
   "metadata": {
    "collapsed": true
   },
   "outputs": [],
   "source": [
    "# 256 -> 0.6460807861583944 (1000 translations)\n",
    "# 128 -> 0.6237477000548044 (1000 translations)\n",
    "# 50 -> 0.6696083157220736 (1000 translations)"
   ]
  },
  {
   "cell_type": "code",
   "execution_count": 42,
   "metadata": {},
   "outputs": [],
   "source": [
    "history = np.load('seq2seq_enc_dec_model_128_28500.npy')"
   ]
  },
  {
   "cell_type": "code",
   "execution_count": 44,
   "metadata": {},
   "outputs": [],
   "source": [
    "from matplotlib import pyplot as plt"
   ]
  },
  {
   "cell_type": "code",
   "execution_count": 59,
   "metadata": {},
   "outputs": [
    {
     "data": {
      "image/png": "[encoded data removed]",
      "text/plain": [
       "<matplotlib.figure.Figure at 0x12477d9b0>"
      ]
     },
     "metadata": {},
     "output_type": "display_data"
    }
   ],
   "source": [
    "plt.plot(history.reshape(1)[0]['val_loss'])\n",
    "plt.plot(history.reshape(1)[0]['loss'])\n",
    "plt.show()"
   ]
  }
 ],
 "metadata": {
  "kernelspec": {
   "display_name": "Python 3",
   "language": "python",
   "name": "python3"
  },
  "language_info": {
   "codemirror_mode": {
    "name": "ipython",
    "version": 3
   },
   "file_extension": ".py",
   "mimetype": "text/x-python",
   "name": "python",
   "nbconvert_exporter": "python",
   "pygments_lexer": "ipython3",
   "version": "3.6.2"
  },
  "toc": {
   "nav_menu": {},
   "number_sections": true,
   "sideBar": true,
   "skip_h1_title": true,
   "toc_cell": false,
   "toc_position": {},
   "toc_section_display": "block",
   "toc_window_display": false
  }
 },
 "nbformat": 4,
 "nbformat_minor": 2
}
